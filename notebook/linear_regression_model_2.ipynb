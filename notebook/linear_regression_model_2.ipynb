{
 "cells": [
  {
   "cell_type": "markdown",
   "metadata": {},
   "source": [
    "# Create linear regression model"
   ]
  },
  {
   "cell_type": "markdown",
   "metadata": {},
   "source": [
    "## Import Modules"
   ]
  },
  {
   "cell_type": "code",
   "execution_count": 39,
   "metadata": {
    "ExecuteTime": {
     "end_time": "2021-01-20T10:00:11.919021Z",
     "start_time": "2021-01-20T10:00:11.903398Z"
    }
   },
   "outputs": [],
   "source": [
    "import numpy as np\n",
    "import pandas as pd\n",
    "import plotly.graph_objects as go\n",
    "\n",
    "from sklearn.linear_model import LinearRegression\n",
    "from sklearn.model_selection import train_test_split"
   ]
  },
  {
   "cell_type": "markdown",
   "metadata": {
    "ExecuteTime": {
     "end_time": "2021-01-19T13:23:38.596788Z",
     "start_time": "2021-01-19T13:23:38.586834Z"
    }
   },
   "source": [
    "## Initialize and load dataset"
   ]
  },
  {
   "cell_type": "code",
   "execution_count": 2,
   "metadata": {
    "ExecuteTime": {
     "end_time": "2021-01-20T09:25:32.076392Z",
     "start_time": "2021-01-20T09:25:32.045172Z"
    }
   },
   "outputs": [],
   "source": [
    "admission_df = pd.read_csv(\"../dataset/admission_dataset.csv\")"
   ]
  },
  {
   "cell_type": "markdown",
   "metadata": {},
   "source": [
    "## Show dataset in table"
   ]
  },
  {
   "cell_type": "code",
   "execution_count": 3,
   "metadata": {
    "ExecuteTime": {
     "end_time": "2021-01-20T09:25:32.092011Z",
     "start_time": "2021-01-20T09:25:32.076392Z"
    },
    "scrolled": true
   },
   "outputs": [],
   "source": [
    "admission_df.drop(columns=[\"serial_no\"], inplace=True)"
   ]
  },
  {
   "cell_type": "code",
   "execution_count": 4,
   "metadata": {
    "ExecuteTime": {
     "end_time": "2021-01-20T09:25:32.123301Z",
     "start_time": "2021-01-20T09:25:32.092011Z"
    }
   },
   "outputs": [
    {
     "data": {
      "text/html": [
       "<div>\n",
       "<style scoped>\n",
       "    .dataframe tbody tr th:only-of-type {\n",
       "        vertical-align: middle;\n",
       "    }\n",
       "\n",
       "    .dataframe tbody tr th {\n",
       "        vertical-align: top;\n",
       "    }\n",
       "\n",
       "    .dataframe thead th {\n",
       "        text-align: right;\n",
       "    }\n",
       "</style>\n",
       "<table border=\"1\" class=\"dataframe\">\n",
       "  <thead>\n",
       "    <tr style=\"text-align: right;\">\n",
       "      <th></th>\n",
       "      <th>gre_score</th>\n",
       "      <th>toefl_score</th>\n",
       "      <th>university_rating</th>\n",
       "      <th>sop</th>\n",
       "      <th>lor</th>\n",
       "      <th>cgpa</th>\n",
       "      <th>research</th>\n",
       "      <th>chance_of_admit</th>\n",
       "    </tr>\n",
       "  </thead>\n",
       "  <tbody>\n",
       "    <tr>\n",
       "      <th>0</th>\n",
       "      <td>337</td>\n",
       "      <td>118</td>\n",
       "      <td>4</td>\n",
       "      <td>4.5</td>\n",
       "      <td>4.5</td>\n",
       "      <td>9.65</td>\n",
       "      <td>1</td>\n",
       "      <td>0.92</td>\n",
       "    </tr>\n",
       "    <tr>\n",
       "      <th>1</th>\n",
       "      <td>324</td>\n",
       "      <td>107</td>\n",
       "      <td>4</td>\n",
       "      <td>4.0</td>\n",
       "      <td>4.5</td>\n",
       "      <td>8.87</td>\n",
       "      <td>1</td>\n",
       "      <td>0.76</td>\n",
       "    </tr>\n",
       "    <tr>\n",
       "      <th>2</th>\n",
       "      <td>316</td>\n",
       "      <td>104</td>\n",
       "      <td>3</td>\n",
       "      <td>3.0</td>\n",
       "      <td>3.5</td>\n",
       "      <td>8.00</td>\n",
       "      <td>1</td>\n",
       "      <td>0.72</td>\n",
       "    </tr>\n",
       "    <tr>\n",
       "      <th>3</th>\n",
       "      <td>322</td>\n",
       "      <td>110</td>\n",
       "      <td>3</td>\n",
       "      <td>3.5</td>\n",
       "      <td>2.5</td>\n",
       "      <td>8.67</td>\n",
       "      <td>1</td>\n",
       "      <td>0.80</td>\n",
       "    </tr>\n",
       "    <tr>\n",
       "      <th>4</th>\n",
       "      <td>314</td>\n",
       "      <td>103</td>\n",
       "      <td>2</td>\n",
       "      <td>2.0</td>\n",
       "      <td>3.0</td>\n",
       "      <td>8.21</td>\n",
       "      <td>0</td>\n",
       "      <td>0.65</td>\n",
       "    </tr>\n",
       "    <tr>\n",
       "      <th>...</th>\n",
       "      <td>...</td>\n",
       "      <td>...</td>\n",
       "      <td>...</td>\n",
       "      <td>...</td>\n",
       "      <td>...</td>\n",
       "      <td>...</td>\n",
       "      <td>...</td>\n",
       "      <td>...</td>\n",
       "    </tr>\n",
       "    <tr>\n",
       "      <th>495</th>\n",
       "      <td>332</td>\n",
       "      <td>108</td>\n",
       "      <td>5</td>\n",
       "      <td>4.5</td>\n",
       "      <td>4.0</td>\n",
       "      <td>9.02</td>\n",
       "      <td>1</td>\n",
       "      <td>0.87</td>\n",
       "    </tr>\n",
       "    <tr>\n",
       "      <th>496</th>\n",
       "      <td>337</td>\n",
       "      <td>117</td>\n",
       "      <td>5</td>\n",
       "      <td>5.0</td>\n",
       "      <td>5.0</td>\n",
       "      <td>9.87</td>\n",
       "      <td>1</td>\n",
       "      <td>0.96</td>\n",
       "    </tr>\n",
       "    <tr>\n",
       "      <th>497</th>\n",
       "      <td>330</td>\n",
       "      <td>120</td>\n",
       "      <td>5</td>\n",
       "      <td>4.5</td>\n",
       "      <td>5.0</td>\n",
       "      <td>9.56</td>\n",
       "      <td>1</td>\n",
       "      <td>0.93</td>\n",
       "    </tr>\n",
       "    <tr>\n",
       "      <th>498</th>\n",
       "      <td>312</td>\n",
       "      <td>103</td>\n",
       "      <td>4</td>\n",
       "      <td>4.0</td>\n",
       "      <td>5.0</td>\n",
       "      <td>8.43</td>\n",
       "      <td>0</td>\n",
       "      <td>0.73</td>\n",
       "    </tr>\n",
       "    <tr>\n",
       "      <th>499</th>\n",
       "      <td>327</td>\n",
       "      <td>113</td>\n",
       "      <td>4</td>\n",
       "      <td>4.5</td>\n",
       "      <td>4.5</td>\n",
       "      <td>9.04</td>\n",
       "      <td>0</td>\n",
       "      <td>0.84</td>\n",
       "    </tr>\n",
       "  </tbody>\n",
       "</table>\n",
       "<p>500 rows × 8 columns</p>\n",
       "</div>"
      ],
      "text/plain": [
       "     gre_score  toefl_score  university_rating  sop  lor  cgpa  research  \\\n",
       "0          337          118                  4  4.5  4.5  9.65         1   \n",
       "1          324          107                  4  4.0  4.5  8.87         1   \n",
       "2          316          104                  3  3.0  3.5  8.00         1   \n",
       "3          322          110                  3  3.5  2.5  8.67         1   \n",
       "4          314          103                  2  2.0  3.0  8.21         0   \n",
       "..         ...          ...                ...  ...  ...   ...       ...   \n",
       "495        332          108                  5  4.5  4.0  9.02         1   \n",
       "496        337          117                  5  5.0  5.0  9.87         1   \n",
       "497        330          120                  5  4.5  5.0  9.56         1   \n",
       "498        312          103                  4  4.0  5.0  8.43         0   \n",
       "499        327          113                  4  4.5  4.5  9.04         0   \n",
       "\n",
       "     chance_of_admit  \n",
       "0               0.92  \n",
       "1               0.76  \n",
       "2               0.72  \n",
       "3               0.80  \n",
       "4               0.65  \n",
       "..               ...  \n",
       "495             0.87  \n",
       "496             0.96  \n",
       "497             0.93  \n",
       "498             0.73  \n",
       "499             0.84  \n",
       "\n",
       "[500 rows x 8 columns]"
      ]
     },
     "execution_count": 4,
     "metadata": {},
     "output_type": "execute_result"
    }
   ],
   "source": [
    "admission_df"
   ]
  },
  {
   "cell_type": "markdown",
   "metadata": {},
   "source": [
    "## Select independent and dependent feature"
   ]
  },
  {
   "cell_type": "code",
   "execution_count": 5,
   "metadata": {
    "ExecuteTime": {
     "end_time": "2021-01-20T09:25:32.145013Z",
     "start_time": "2021-01-20T09:25:32.129341Z"
    }
   },
   "outputs": [],
   "source": [
    "X = admission_df[[ \"gre_score\", \"toefl_score\", \"university_rating\", \"sop\", \"lor\", \"cgpa\", \"research\"]]\n",
    "y = admission_df[\"chance_of_admit\"]"
   ]
  },
  {
   "cell_type": "markdown",
   "metadata": {
    "ExecuteTime": {
     "end_time": "2021-01-19T13:26:45.093009Z",
     "start_time": "2021-01-19T13:26:45.079990Z"
    }
   },
   "source": [
    "## Split dataframe in train, test, and validation dataset"
   ]
  },
  {
   "cell_type": "markdown",
   "metadata": {},
   "source": [
    "### Train, test, and validation"
   ]
  },
  {
   "cell_type": "code",
   "execution_count": 6,
   "metadata": {
    "ExecuteTime": {
     "end_time": "2021-01-20T09:25:32.191931Z",
     "start_time": "2021-01-20T09:25:32.145013Z"
    }
   },
   "outputs": [
    {
     "data": {
      "text/html": [
       "<div>\n",
       "<style scoped>\n",
       "    .dataframe tbody tr th:only-of-type {\n",
       "        vertical-align: middle;\n",
       "    }\n",
       "\n",
       "    .dataframe tbody tr th {\n",
       "        vertical-align: top;\n",
       "    }\n",
       "\n",
       "    .dataframe thead th {\n",
       "        text-align: right;\n",
       "    }\n",
       "</style>\n",
       "<table border=\"1\" class=\"dataframe\">\n",
       "  <thead>\n",
       "    <tr style=\"text-align: right;\">\n",
       "      <th></th>\n",
       "      <th>gre_score</th>\n",
       "      <th>toefl_score</th>\n",
       "      <th>university_rating</th>\n",
       "      <th>sop</th>\n",
       "      <th>lor</th>\n",
       "      <th>cgpa</th>\n",
       "      <th>research</th>\n",
       "      <th>chance_of_admit</th>\n",
       "    </tr>\n",
       "  </thead>\n",
       "  <tbody>\n",
       "    <tr>\n",
       "      <th>0</th>\n",
       "      <td>337</td>\n",
       "      <td>118</td>\n",
       "      <td>4</td>\n",
       "      <td>4.5</td>\n",
       "      <td>4.5</td>\n",
       "      <td>9.65</td>\n",
       "      <td>1</td>\n",
       "      <td>0.92</td>\n",
       "    </tr>\n",
       "    <tr>\n",
       "      <th>1</th>\n",
       "      <td>324</td>\n",
       "      <td>107</td>\n",
       "      <td>4</td>\n",
       "      <td>4.0</td>\n",
       "      <td>4.5</td>\n",
       "      <td>8.87</td>\n",
       "      <td>1</td>\n",
       "      <td>0.76</td>\n",
       "    </tr>\n",
       "    <tr>\n",
       "      <th>2</th>\n",
       "      <td>316</td>\n",
       "      <td>104</td>\n",
       "      <td>3</td>\n",
       "      <td>3.0</td>\n",
       "      <td>3.5</td>\n",
       "      <td>8.00</td>\n",
       "      <td>1</td>\n",
       "      <td>0.72</td>\n",
       "    </tr>\n",
       "    <tr>\n",
       "      <th>3</th>\n",
       "      <td>322</td>\n",
       "      <td>110</td>\n",
       "      <td>3</td>\n",
       "      <td>3.5</td>\n",
       "      <td>2.5</td>\n",
       "      <td>8.67</td>\n",
       "      <td>1</td>\n",
       "      <td>0.80</td>\n",
       "    </tr>\n",
       "    <tr>\n",
       "      <th>4</th>\n",
       "      <td>314</td>\n",
       "      <td>103</td>\n",
       "      <td>2</td>\n",
       "      <td>2.0</td>\n",
       "      <td>3.0</td>\n",
       "      <td>8.21</td>\n",
       "      <td>0</td>\n",
       "      <td>0.65</td>\n",
       "    </tr>\n",
       "    <tr>\n",
       "      <th>...</th>\n",
       "      <td>...</td>\n",
       "      <td>...</td>\n",
       "      <td>...</td>\n",
       "      <td>...</td>\n",
       "      <td>...</td>\n",
       "      <td>...</td>\n",
       "      <td>...</td>\n",
       "      <td>...</td>\n",
       "    </tr>\n",
       "    <tr>\n",
       "      <th>495</th>\n",
       "      <td>332</td>\n",
       "      <td>108</td>\n",
       "      <td>5</td>\n",
       "      <td>4.5</td>\n",
       "      <td>4.0</td>\n",
       "      <td>9.02</td>\n",
       "      <td>1</td>\n",
       "      <td>0.87</td>\n",
       "    </tr>\n",
       "    <tr>\n",
       "      <th>496</th>\n",
       "      <td>337</td>\n",
       "      <td>117</td>\n",
       "      <td>5</td>\n",
       "      <td>5.0</td>\n",
       "      <td>5.0</td>\n",
       "      <td>9.87</td>\n",
       "      <td>1</td>\n",
       "      <td>0.96</td>\n",
       "    </tr>\n",
       "    <tr>\n",
       "      <th>497</th>\n",
       "      <td>330</td>\n",
       "      <td>120</td>\n",
       "      <td>5</td>\n",
       "      <td>4.5</td>\n",
       "      <td>5.0</td>\n",
       "      <td>9.56</td>\n",
       "      <td>1</td>\n",
       "      <td>0.93</td>\n",
       "    </tr>\n",
       "    <tr>\n",
       "      <th>498</th>\n",
       "      <td>312</td>\n",
       "      <td>103</td>\n",
       "      <td>4</td>\n",
       "      <td>4.0</td>\n",
       "      <td>5.0</td>\n",
       "      <td>8.43</td>\n",
       "      <td>0</td>\n",
       "      <td>0.73</td>\n",
       "    </tr>\n",
       "    <tr>\n",
       "      <th>499</th>\n",
       "      <td>327</td>\n",
       "      <td>113</td>\n",
       "      <td>4</td>\n",
       "      <td>4.5</td>\n",
       "      <td>4.5</td>\n",
       "      <td>9.04</td>\n",
       "      <td>0</td>\n",
       "      <td>0.84</td>\n",
       "    </tr>\n",
       "  </tbody>\n",
       "</table>\n",
       "<p>500 rows × 8 columns</p>\n",
       "</div>"
      ],
      "text/plain": [
       "     gre_score  toefl_score  university_rating  sop  lor  cgpa  research  \\\n",
       "0          337          118                  4  4.5  4.5  9.65         1   \n",
       "1          324          107                  4  4.0  4.5  8.87         1   \n",
       "2          316          104                  3  3.0  3.5  8.00         1   \n",
       "3          322          110                  3  3.5  2.5  8.67         1   \n",
       "4          314          103                  2  2.0  3.0  8.21         0   \n",
       "..         ...          ...                ...  ...  ...   ...       ...   \n",
       "495        332          108                  5  4.5  4.0  9.02         1   \n",
       "496        337          117                  5  5.0  5.0  9.87         1   \n",
       "497        330          120                  5  4.5  5.0  9.56         1   \n",
       "498        312          103                  4  4.0  5.0  8.43         0   \n",
       "499        327          113                  4  4.5  4.5  9.04         0   \n",
       "\n",
       "     chance_of_admit  \n",
       "0               0.92  \n",
       "1               0.76  \n",
       "2               0.72  \n",
       "3               0.80  \n",
       "4               0.65  \n",
       "..               ...  \n",
       "495             0.87  \n",
       "496             0.96  \n",
       "497             0.93  \n",
       "498             0.73  \n",
       "499             0.84  \n",
       "\n",
       "[500 rows x 8 columns]"
      ]
     },
     "execution_count": 6,
     "metadata": {},
     "output_type": "execute_result"
    }
   ],
   "source": [
    "admission_df"
   ]
  },
  {
   "cell_type": "code",
   "execution_count": 7,
   "metadata": {
    "ExecuteTime": {
     "end_time": "2021-01-20T09:25:32.223174Z",
     "start_time": "2021-01-20T09:25:32.191931Z"
    },
    "scrolled": true
   },
   "outputs": [],
   "source": [
    "train_df      = admission_df.sample(n=300, replace=False, random_state=43)\n",
    "test_df       = admission_df[~admission_df.isin(train_df)].dropna(axis=0).sample(n=100, replace=False, random_state=43)\n",
    "test_temp_df  = admission_df[~admission_df.isin(train_df)].dropna(axis=0)\n",
    "validation_df = test_temp_df[~test_temp_df.isin(test_df)].dropna(axis=0)"
   ]
  },
  {
   "cell_type": "code",
   "execution_count": 8,
   "metadata": {
    "ExecuteTime": {
     "end_time": "2021-01-20T09:25:32.261009Z",
     "start_time": "2021-01-20T09:25:32.229711Z"
    },
    "scrolled": true
   },
   "outputs": [],
   "source": [
    "X_train = train_df.drop(columns=[\"chance_of_admit\"])\n",
    "y_train = train_df.drop(columns=[\"gre_score\" ,\"toefl_score\", \"university_rating\", \"sop\", \"lor\", \"cgpa\", \"research\"])\n",
    "\n",
    "X_test = test_df.drop(columns=[\"chance_of_admit\"])\n",
    "y_test = test_df.drop(columns=[\"gre_score\" ,\"toefl_score\", \"university_rating\", \"sop\", \"lor\", \"cgpa\", \"research\"])\n",
    "\n",
    "X_validation = validation_df.drop(columns=[\"chance_of_admit\"])\n",
    "y_validation = validation_df.drop(columns=[\"gre_score\" ,\"toefl_score\", \"university_rating\", \"sop\", \"lor\", \"cgpa\", \"research\"])"
   ]
  },
  {
   "cell_type": "code",
   "execution_count": 9,
   "metadata": {
    "ExecuteTime": {
     "end_time": "2021-01-20T09:25:32.307919Z",
     "start_time": "2021-01-20T09:25:32.261009Z"
    }
   },
   "outputs": [
    {
     "name": "stdout",
     "output_type": "stream",
     "text": [
      "Data train:\n",
      "X_train: (300, 7)\n",
      "y_train: (300, 1) \n",
      "\n",
      "Data testing\n",
      "X_test: (100, 7)\n",
      "y_test: (100, 1) \n",
      "\n",
      "Data validation\n",
      "X_validation: (100, 7)\n",
      "y_validation: (100, 1)\n"
     ]
    }
   ],
   "source": [
    "print(\"Data train:\")\n",
    "print(\"X_train:\", X_train.shape)\n",
    "print(\"y_train:\", y_train.shape, \"\\n\")\n",
    "\n",
    "print(\"Data testing\")\n",
    "print(\"X_test:\", X_test.shape)\n",
    "print(\"y_test:\", y_test.shape, \"\\n\")\n",
    "\n",
    "print(\"Data validation\")\n",
    "print(\"X_validation:\", X_validation.shape)\n",
    "print(\"y_validation:\", y_validation.shape)"
   ]
  },
  {
   "cell_type": "markdown",
   "metadata": {},
   "source": [
    "## Create model"
   ]
  },
  {
   "cell_type": "code",
   "execution_count": 35,
   "metadata": {
    "ExecuteTime": {
     "end_time": "2021-01-20T09:38:40.741710Z",
     "start_time": "2021-01-20T09:38:40.726089Z"
    }
   },
   "outputs": [
    {
     "data": {
      "text/plain": [
       "LinearRegression()"
      ]
     },
     "execution_count": 35,
     "metadata": {},
     "output_type": "execute_result"
    }
   ],
   "source": [
    "linear_regression_model = LinearRegression()\n",
    "linear_regression_model.fit(X_train, y_train)"
   ]
  },
  {
   "cell_type": "markdown",
   "metadata": {},
   "source": [
    "## Intercept"
   ]
  },
  {
   "cell_type": "code",
   "execution_count": 36,
   "metadata": {
    "ExecuteTime": {
     "end_time": "2021-01-20T09:38:43.117651Z",
     "start_time": "2021-01-20T09:38:43.102029Z"
    }
   },
   "outputs": [
    {
     "name": "stdout",
     "output_type": "stream",
     "text": [
      "Intercept: -1.1343945601412755\n"
     ]
    }
   ],
   "source": [
    "print(\"Intercept:\", linear_regression_model.intercept_[0])"
   ]
  },
  {
   "cell_type": "markdown",
   "metadata": {},
   "source": [
    "## Coefficient"
   ]
  },
  {
   "cell_type": "code",
   "execution_count": 37,
   "metadata": {
    "ExecuteTime": {
     "end_time": "2021-01-20T09:38:45.509754Z",
     "start_time": "2021-01-20T09:38:45.494106Z"
    }
   },
   "outputs": [
    {
     "name": "stdout",
     "output_type": "stream",
     "text": [
      "GRE Score Coefficient        : 0.0013909806428800532\n",
      "Toefl Score Coefficient      : 0.003327970658963705\n",
      "University Rating Coefficient: 0.009852225902771718\n",
      "SOP Coefficeint              : 0.0067705830841448145\n",
      "LOR Coefficient              : 0.012791993291725867\n",
      "CGPA Coefficient             : 0.10976720843125265\n",
      "Research Coefficient         : 0.02986877707023629\n"
     ]
    }
   ],
   "source": [
    "gre_score_coef         = linear_regression_model.coef_[0][0]\n",
    "toefl_score_coef       = linear_regression_model.coef_[0][1]\n",
    "university_rating_coef = linear_regression_model.coef_[0][2]\n",
    "sop_coef               = linear_regression_model.coef_[0][3]\n",
    "lor_coef               = linear_regression_model.coef_[0][4]\n",
    "cgpa_coef              = linear_regression_model.coef_[0][5]\n",
    "research_coef          = linear_regression_model.coef_[0][6]\n",
    "\n",
    "print(\"GRE Score Coefficient        :\", gre_score_coef)\n",
    "print(\"Toefl Score Coefficient      :\", toefl_score_coef)\n",
    "print(\"University Rating Coefficient:\", university_rating_coef)\n",
    "print(\"SOP Coefficeint              :\", sop_coef)\n",
    "print(\"LOR Coefficient              :\", lor_coef)\n",
    "print(\"CGPA Coefficient             :\", cgpa_coef)\n",
    "print(\"Research Coefficient         :\", research_coef)"
   ]
  },
  {
   "cell_type": "markdown",
   "metadata": {},
   "source": [
    "## Check accuracy with R-Squared"
   ]
  },
  {
   "cell_type": "code",
   "execution_count": 38,
   "metadata": {
    "ExecuteTime": {
     "end_time": "2021-01-20T09:38:49.037493Z",
     "start_time": "2021-01-20T09:38:49.021839Z"
    }
   },
   "outputs": [
    {
     "data": {
      "text/plain": [
       "0.8373311696294835"
      ]
     },
     "execution_count": 38,
     "metadata": {},
     "output_type": "execute_result"
    }
   ],
   "source": [
    "linear_regression_model.score(X_test, y_test)"
   ]
  },
  {
   "cell_type": "markdown",
   "metadata": {},
   "source": [
    "## Predict with model"
   ]
  },
  {
   "cell_type": "code",
   "execution_count": 32,
   "metadata": {
    "ExecuteTime": {
     "end_time": "2021-01-20T09:35:06.734311Z",
     "start_time": "2021-01-20T09:35:06.703266Z"
    }
   },
   "outputs": [
    {
     "data": {
      "text/html": [
       "<div>\n",
       "<style scoped>\n",
       "    .dataframe tbody tr th:only-of-type {\n",
       "        vertical-align: middle;\n",
       "    }\n",
       "\n",
       "    .dataframe tbody tr th {\n",
       "        vertical-align: top;\n",
       "    }\n",
       "\n",
       "    .dataframe thead th {\n",
       "        text-align: right;\n",
       "    }\n",
       "</style>\n",
       "<table border=\"1\" class=\"dataframe\">\n",
       "  <thead>\n",
       "    <tr style=\"text-align: right;\">\n",
       "      <th></th>\n",
       "      <th>gre_score</th>\n",
       "      <th>toefl_score</th>\n",
       "      <th>university_rating</th>\n",
       "      <th>sop</th>\n",
       "      <th>lor</th>\n",
       "      <th>cgpa</th>\n",
       "      <th>research</th>\n",
       "      <th>chance_of_admit</th>\n",
       "    </tr>\n",
       "  </thead>\n",
       "  <tbody>\n",
       "    <tr>\n",
       "      <th>14</th>\n",
       "      <td>311.0</td>\n",
       "      <td>104.0</td>\n",
       "      <td>3.0</td>\n",
       "      <td>3.5</td>\n",
       "      <td>2.0</td>\n",
       "      <td>8.20</td>\n",
       "      <td>1.0</td>\n",
       "      <td>0.61</td>\n",
       "    </tr>\n",
       "    <tr>\n",
       "      <th>16</th>\n",
       "      <td>317.0</td>\n",
       "      <td>107.0</td>\n",
       "      <td>3.0</td>\n",
       "      <td>4.0</td>\n",
       "      <td>3.0</td>\n",
       "      <td>8.70</td>\n",
       "      <td>0.0</td>\n",
       "      <td>0.66</td>\n",
       "    </tr>\n",
       "    <tr>\n",
       "      <th>21</th>\n",
       "      <td>325.0</td>\n",
       "      <td>114.0</td>\n",
       "      <td>4.0</td>\n",
       "      <td>3.0</td>\n",
       "      <td>2.0</td>\n",
       "      <td>8.40</td>\n",
       "      <td>0.0</td>\n",
       "      <td>0.70</td>\n",
       "    </tr>\n",
       "    <tr>\n",
       "      <th>23</th>\n",
       "      <td>334.0</td>\n",
       "      <td>119.0</td>\n",
       "      <td>5.0</td>\n",
       "      <td>5.0</td>\n",
       "      <td>4.5</td>\n",
       "      <td>9.70</td>\n",
       "      <td>1.0</td>\n",
       "      <td>0.95</td>\n",
       "    </tr>\n",
       "    <tr>\n",
       "      <th>28</th>\n",
       "      <td>295.0</td>\n",
       "      <td>93.0</td>\n",
       "      <td>1.0</td>\n",
       "      <td>2.0</td>\n",
       "      <td>2.0</td>\n",
       "      <td>7.20</td>\n",
       "      <td>0.0</td>\n",
       "      <td>0.46</td>\n",
       "    </tr>\n",
       "    <tr>\n",
       "      <th>...</th>\n",
       "      <td>...</td>\n",
       "      <td>...</td>\n",
       "      <td>...</td>\n",
       "      <td>...</td>\n",
       "      <td>...</td>\n",
       "      <td>...</td>\n",
       "      <td>...</td>\n",
       "      <td>...</td>\n",
       "    </tr>\n",
       "    <tr>\n",
       "      <th>481</th>\n",
       "      <td>323.0</td>\n",
       "      <td>107.0</td>\n",
       "      <td>4.0</td>\n",
       "      <td>3.0</td>\n",
       "      <td>2.5</td>\n",
       "      <td>8.48</td>\n",
       "      <td>1.0</td>\n",
       "      <td>0.78</td>\n",
       "    </tr>\n",
       "    <tr>\n",
       "      <th>485</th>\n",
       "      <td>311.0</td>\n",
       "      <td>101.0</td>\n",
       "      <td>2.0</td>\n",
       "      <td>2.5</td>\n",
       "      <td>3.5</td>\n",
       "      <td>8.34</td>\n",
       "      <td>1.0</td>\n",
       "      <td>0.70</td>\n",
       "    </tr>\n",
       "    <tr>\n",
       "      <th>492</th>\n",
       "      <td>298.0</td>\n",
       "      <td>101.0</td>\n",
       "      <td>4.0</td>\n",
       "      <td>2.5</td>\n",
       "      <td>4.5</td>\n",
       "      <td>7.69</td>\n",
       "      <td>1.0</td>\n",
       "      <td>0.53</td>\n",
       "    </tr>\n",
       "    <tr>\n",
       "      <th>493</th>\n",
       "      <td>300.0</td>\n",
       "      <td>95.0</td>\n",
       "      <td>2.0</td>\n",
       "      <td>3.0</td>\n",
       "      <td>1.5</td>\n",
       "      <td>8.22</td>\n",
       "      <td>1.0</td>\n",
       "      <td>0.62</td>\n",
       "    </tr>\n",
       "    <tr>\n",
       "      <th>497</th>\n",
       "      <td>330.0</td>\n",
       "      <td>120.0</td>\n",
       "      <td>5.0</td>\n",
       "      <td>4.5</td>\n",
       "      <td>5.0</td>\n",
       "      <td>9.56</td>\n",
       "      <td>1.0</td>\n",
       "      <td>0.93</td>\n",
       "    </tr>\n",
       "  </tbody>\n",
       "</table>\n",
       "<p>100 rows × 8 columns</p>\n",
       "</div>"
      ],
      "text/plain": [
       "     gre_score  toefl_score  university_rating  sop  lor  cgpa  research  \\\n",
       "14       311.0        104.0                3.0  3.5  2.0  8.20       1.0   \n",
       "16       317.0        107.0                3.0  4.0  3.0  8.70       0.0   \n",
       "21       325.0        114.0                4.0  3.0  2.0  8.40       0.0   \n",
       "23       334.0        119.0                5.0  5.0  4.5  9.70       1.0   \n",
       "28       295.0         93.0                1.0  2.0  2.0  7.20       0.0   \n",
       "..         ...          ...                ...  ...  ...   ...       ...   \n",
       "481      323.0        107.0                4.0  3.0  2.5  8.48       1.0   \n",
       "485      311.0        101.0                2.0  2.5  3.5  8.34       1.0   \n",
       "492      298.0        101.0                4.0  2.5  4.5  7.69       1.0   \n",
       "493      300.0         95.0                2.0  3.0  1.5  8.22       1.0   \n",
       "497      330.0        120.0                5.0  4.5  5.0  9.56       1.0   \n",
       "\n",
       "     chance_of_admit  \n",
       "14              0.61  \n",
       "16              0.66  \n",
       "21              0.70  \n",
       "23              0.95  \n",
       "28              0.46  \n",
       "..               ...  \n",
       "481             0.78  \n",
       "485             0.70  \n",
       "492             0.53  \n",
       "493             0.62  \n",
       "497             0.93  \n",
       "\n",
       "[100 rows x 8 columns]"
      ]
     },
     "execution_count": 32,
     "metadata": {},
     "output_type": "execute_result"
    }
   ],
   "source": [
    "pd.merge(X_validation, y_validation, left_index=True, right_index=True)"
   ]
  },
  {
   "cell_type": "code",
   "execution_count": 34,
   "metadata": {
    "ExecuteTime": {
     "end_time": "2021-01-20T09:36:57.176684Z",
     "start_time": "2021-01-20T09:36:57.161061Z"
    }
   },
   "outputs": [
    {
     "name": "stdout",
     "output_type": "stream",
     "text": [
      "Chance of admit prediction: 0.59\n"
     ]
    }
   ],
   "source": [
    "gre_score         = 300\n",
    "toefl_score       = 95\n",
    "university_rating = 2\n",
    "sop               = 3\n",
    "lor               = 1.5\n",
    "cgpa              = 8.22\n",
    "research          = 1\n",
    "\n",
    "prediction = linear_regression_model.predict([[gre_score, toefl_score, university_rating, sop, lor, cgpa, research]])\n",
    "\n",
    "print(\"Chance of admit prediction:\", round(prediction[0][0], 2))"
   ]
  },
  {
   "cell_type": "markdown",
   "metadata": {
    "ExecuteTime": {
     "end_time": "2021-01-19T15:09:22.484932Z",
     "start_time": "2021-01-19T15:09:22.468505Z"
    }
   },
   "source": [
    "## Accuracy and train sample"
   ]
  },
  {
   "cell_type": "code",
   "execution_count": 18,
   "metadata": {
    "ExecuteTime": {
     "end_time": "2021-01-20T09:27:45.434350Z",
     "start_time": "2021-01-20T09:27:40.346075Z"
    }
   },
   "outputs": [],
   "source": [
    "trains_size = []\n",
    "scores      = []\n",
    "size        = 0.3\n",
    "\n",
    "for i in np.arange(0, 0.698, 0.001):\n",
    "    X_train = train_df.drop(columns=[\"chance_of_admit\"])\n",
    "    y_train = train_df.drop(columns=[\"gre_score\" ,\"toefl_score\", \"university_rating\", \"sop\", \"lor\", \"cgpa\", \"research\"])\n",
    "\n",
    "    X_test = test_df.drop(columns=[\"chance_of_admit\"])\n",
    "    y_test = test_df.drop(columns=[\"gre_score\" ,\"toefl_score\", \"university_rating\", \"sop\", \"lor\", \"cgpa\", \"research\"])\n",
    "    \n",
    "    linear_regression_model = LinearRegression()\n",
    "    linear_regression_model.fit(X_train, y_train)\n",
    "    \n",
    "    trains_size.append(round(((size + i) * 100), 2))\n",
    "    scores.append(round(linear_regression_model.score(X_test, y_test) * 100, 2))"
   ]
  },
  {
   "cell_type": "markdown",
   "metadata": {},
   "source": [
    "## Visualization R-Squared score and size of data train"
   ]
  },
  {
   "cell_type": "code",
   "execution_count": 19,
   "metadata": {
    "ExecuteTime": {
     "end_time": "2021-01-20T09:27:47.815391Z",
     "start_time": "2021-01-20T09:27:47.784126Z"
    }
   },
   "outputs": [
    {
     "data": {
      "application/vnd.plotly.v1+json": {
       "config": {
        "plotlyServerURL": "https://plot.ly"
       },
       "data": [
        {
         "type": "scatter",
         "x": [
          30,
          30.1,
          30.2,
          30.3,
          30.4,
          30.5,
          30.6,
          30.7,
          30.8,
          30.9,
          31,
          31.1,
          31.2,
          31.3,
          31.4,
          31.5,
          31.6,
          31.7,
          31.8,
          31.9,
          32,
          32.1,
          32.2,
          32.3,
          32.4,
          32.5,
          32.6,
          32.7,
          32.8,
          32.9,
          33,
          33.1,
          33.2,
          33.3,
          33.4,
          33.5,
          33.6,
          33.7,
          33.8,
          33.9,
          34,
          34.1,
          34.2,
          34.3,
          34.4,
          34.5,
          34.6,
          34.7,
          34.8,
          34.9,
          35,
          35.1,
          35.2,
          35.3,
          35.4,
          35.5,
          35.6,
          35.7,
          35.8,
          35.9,
          36,
          36.1,
          36.2,
          36.3,
          36.4,
          36.5,
          36.6,
          36.7,
          36.8,
          36.9,
          37,
          37.1,
          37.2,
          37.3,
          37.4,
          37.5,
          37.6,
          37.7,
          37.8,
          37.9,
          38,
          38.1,
          38.2,
          38.3,
          38.4,
          38.5,
          38.6,
          38.7,
          38.8,
          38.9,
          39,
          39.1,
          39.2,
          39.3,
          39.4,
          39.5,
          39.6,
          39.7,
          39.8,
          39.9,
          40,
          40.1,
          40.2,
          40.3,
          40.4,
          40.5,
          40.6,
          40.7,
          40.8,
          40.9,
          41,
          41.1,
          41.2,
          41.3,
          41.4,
          41.5,
          41.6,
          41.7,
          41.8,
          41.9,
          42,
          42.1,
          42.2,
          42.3,
          42.4,
          42.5,
          42.6,
          42.7,
          42.8,
          42.9,
          43,
          43.1,
          43.2,
          43.3,
          43.4,
          43.5,
          43.6,
          43.7,
          43.8,
          43.9,
          44,
          44.1,
          44.2,
          44.3,
          44.4,
          44.5,
          44.6,
          44.7,
          44.8,
          44.9,
          45,
          45.1,
          45.2,
          45.3,
          45.4,
          45.5,
          45.6,
          45.7,
          45.8,
          45.9,
          46,
          46.1,
          46.2,
          46.3,
          46.4,
          46.5,
          46.6,
          46.7,
          46.8,
          46.9,
          47,
          47.1,
          47.2,
          47.3,
          47.4,
          47.5,
          47.6,
          47.7,
          47.8,
          47.9,
          48,
          48.1,
          48.2,
          48.3,
          48.4,
          48.5,
          48.6,
          48.7,
          48.8,
          48.9,
          49,
          49.1,
          49.2,
          49.3,
          49.4,
          49.5,
          49.6,
          49.7,
          49.8,
          49.9,
          50,
          50.1,
          50.2,
          50.3,
          50.4,
          50.5,
          50.6,
          50.7,
          50.8,
          50.9,
          51,
          51.1,
          51.2,
          51.3,
          51.4,
          51.5,
          51.6,
          51.7,
          51.8,
          51.9,
          52,
          52.1,
          52.2,
          52.3,
          52.4,
          52.5,
          52.6,
          52.7,
          52.8,
          52.9,
          53,
          53.1,
          53.2,
          53.3,
          53.4,
          53.5,
          53.6,
          53.7,
          53.8,
          53.9,
          54,
          54.1,
          54.2,
          54.3,
          54.4,
          54.5,
          54.6,
          54.7,
          54.8,
          54.9,
          55,
          55.1,
          55.2,
          55.3,
          55.4,
          55.5,
          55.6,
          55.7,
          55.8,
          55.9,
          56,
          56.1,
          56.2,
          56.3,
          56.4,
          56.5,
          56.6,
          56.7,
          56.8,
          56.9,
          57,
          57.1,
          57.2,
          57.3,
          57.4,
          57.5,
          57.6,
          57.7,
          57.8,
          57.9,
          58,
          58.1,
          58.2,
          58.3,
          58.4,
          58.5,
          58.6,
          58.7,
          58.8,
          58.9,
          59,
          59.1,
          59.2,
          59.3,
          59.4,
          59.5,
          59.6,
          59.7,
          59.8,
          59.9,
          60,
          60.1,
          60.2,
          60.3,
          60.4,
          60.5,
          60.6,
          60.7,
          60.8,
          60.9,
          61,
          61.1,
          61.2,
          61.3,
          61.4,
          61.5,
          61.6,
          61.7,
          61.8,
          61.9,
          62,
          62.1,
          62.2,
          62.3,
          62.4,
          62.5,
          62.6,
          62.7,
          62.8,
          62.9,
          63,
          63.1,
          63.2,
          63.3,
          63.4,
          63.5,
          63.6,
          63.7,
          63.8,
          63.9,
          64,
          64.1,
          64.2,
          64.3,
          64.4,
          64.5,
          64.6,
          64.7,
          64.8,
          64.9,
          65,
          65.1,
          65.2,
          65.3,
          65.4,
          65.5,
          65.6,
          65.7,
          65.8,
          65.9,
          66,
          66.1,
          66.2,
          66.3,
          66.4,
          66.5,
          66.6,
          66.7,
          66.8,
          66.9,
          67,
          67.1,
          67.2,
          67.3,
          67.4,
          67.5,
          67.6,
          67.7,
          67.8,
          67.9,
          68,
          68.1,
          68.2,
          68.3,
          68.4,
          68.5,
          68.6,
          68.7,
          68.8,
          68.9,
          69,
          69.1,
          69.2,
          69.3,
          69.4,
          69.5,
          69.6,
          69.7,
          69.8,
          69.9,
          70,
          70.1,
          70.2,
          70.3,
          70.4,
          70.5,
          70.6,
          70.7,
          70.8,
          70.9,
          71,
          71.1,
          71.2,
          71.3,
          71.4,
          71.5,
          71.6,
          71.7,
          71.8,
          71.9,
          72,
          72.1,
          72.2,
          72.3,
          72.4,
          72.5,
          72.6,
          72.7,
          72.8,
          72.9,
          73,
          73.1,
          73.2,
          73.3,
          73.4,
          73.5,
          73.6,
          73.7,
          73.8,
          73.9,
          74,
          74.1,
          74.2,
          74.3,
          74.4,
          74.5,
          74.6,
          74.7,
          74.8,
          74.9,
          75,
          75.1,
          75.2,
          75.3,
          75.4,
          75.5,
          75.6,
          75.7,
          75.8,
          75.9,
          76,
          76.1,
          76.2,
          76.3,
          76.4,
          76.5,
          76.6,
          76.7,
          76.8,
          76.9,
          77,
          77.1,
          77.2,
          77.3,
          77.4,
          77.5,
          77.6,
          77.7,
          77.8,
          77.9,
          78,
          78.1,
          78.2,
          78.3,
          78.4,
          78.5,
          78.6,
          78.7,
          78.8,
          78.9,
          79,
          79.1,
          79.2,
          79.3,
          79.4,
          79.5,
          79.6,
          79.7,
          79.8,
          79.9,
          80,
          80.1,
          80.2,
          80.3,
          80.4,
          80.5,
          80.6,
          80.7,
          80.8,
          80.9,
          81,
          81.1,
          81.2,
          81.3,
          81.4,
          81.5,
          81.6,
          81.7,
          81.8,
          81.9,
          82,
          82.1,
          82.2,
          82.3,
          82.4,
          82.5,
          82.6,
          82.7,
          82.8,
          82.9,
          83,
          83.1,
          83.2,
          83.3,
          83.4,
          83.5,
          83.6,
          83.7,
          83.8,
          83.9,
          84,
          84.1,
          84.2,
          84.3,
          84.4,
          84.5,
          84.6,
          84.7,
          84.8,
          84.9,
          85,
          85.1,
          85.2,
          85.3,
          85.4,
          85.5,
          85.6,
          85.7,
          85.8,
          85.9,
          86,
          86.1,
          86.2,
          86.3,
          86.4,
          86.5,
          86.6,
          86.7,
          86.8,
          86.9,
          87,
          87.1,
          87.2,
          87.3,
          87.4,
          87.5,
          87.6,
          87.7,
          87.8,
          87.9,
          88,
          88.1,
          88.2,
          88.3,
          88.4,
          88.5,
          88.6,
          88.7,
          88.8,
          88.9,
          89,
          89.1,
          89.2,
          89.3,
          89.4,
          89.5,
          89.6,
          89.7,
          89.8,
          89.9,
          90,
          90.1,
          90.2,
          90.3,
          90.4,
          90.5,
          90.6,
          90.7,
          90.8,
          90.9,
          91,
          91.1,
          91.2,
          91.3,
          91.4,
          91.5,
          91.6,
          91.7,
          91.8,
          91.9,
          92,
          92.1,
          92.2,
          92.3,
          92.4,
          92.5,
          92.6,
          92.7,
          92.8,
          92.9,
          93,
          93.1,
          93.2,
          93.3,
          93.4,
          93.5,
          93.6,
          93.7,
          93.8,
          93.9,
          94,
          94.1,
          94.2,
          94.3,
          94.4,
          94.5,
          94.6,
          94.7,
          94.8,
          94.9,
          95,
          95.1,
          95.2,
          95.3,
          95.4,
          95.5,
          95.6,
          95.7,
          95.8,
          95.9,
          96,
          96.1,
          96.2,
          96.3,
          96.4,
          96.5,
          96.6,
          96.7,
          96.8,
          96.9,
          97,
          97.1,
          97.2,
          97.3,
          97.4,
          97.5,
          97.6,
          97.7,
          97.8,
          97.9,
          98,
          98.1,
          98.2,
          98.3,
          98.4,
          98.5,
          98.6,
          98.7,
          98.8,
          98.9,
          99,
          99.1,
          99.2,
          99.3,
          99.4,
          99.5,
          99.6,
          99.7
         ],
         "y": [
          83.73,
          83.73,
          83.73,
          83.73,
          83.73,
          83.73,
          83.73,
          83.73,
          83.73,
          83.73,
          83.73,
          83.73,
          83.73,
          83.73,
          83.73,
          83.73,
          83.73,
          83.73,
          83.73,
          83.73,
          83.73,
          83.73,
          83.73,
          83.73,
          83.73,
          83.73,
          83.73,
          83.73,
          83.73,
          83.73,
          83.73,
          83.73,
          83.73,
          83.73,
          83.73,
          83.73,
          83.73,
          83.73,
          83.73,
          83.73,
          83.73,
          83.73,
          83.73,
          83.73,
          83.73,
          83.73,
          83.73,
          83.73,
          83.73,
          83.73,
          83.73,
          83.73,
          83.73,
          83.73,
          83.73,
          83.73,
          83.73,
          83.73,
          83.73,
          83.73,
          83.73,
          83.73,
          83.73,
          83.73,
          83.73,
          83.73,
          83.73,
          83.73,
          83.73,
          83.73,
          83.73,
          83.73,
          83.73,
          83.73,
          83.73,
          83.73,
          83.73,
          83.73,
          83.73,
          83.73,
          83.73,
          83.73,
          83.73,
          83.73,
          83.73,
          83.73,
          83.73,
          83.73,
          83.73,
          83.73,
          83.73,
          83.73,
          83.73,
          83.73,
          83.73,
          83.73,
          83.73,
          83.73,
          83.73,
          83.73,
          83.73,
          83.73,
          83.73,
          83.73,
          83.73,
          83.73,
          83.73,
          83.73,
          83.73,
          83.73,
          83.73,
          83.73,
          83.73,
          83.73,
          83.73,
          83.73,
          83.73,
          83.73,
          83.73,
          83.73,
          83.73,
          83.73,
          83.73,
          83.73,
          83.73,
          83.73,
          83.73,
          83.73,
          83.73,
          83.73,
          83.73,
          83.73,
          83.73,
          83.73,
          83.73,
          83.73,
          83.73,
          83.73,
          83.73,
          83.73,
          83.73,
          83.73,
          83.73,
          83.73,
          83.73,
          83.73,
          83.73,
          83.73,
          83.73,
          83.73,
          83.73,
          83.73,
          83.73,
          83.73,
          83.73,
          83.73,
          83.73,
          83.73,
          83.73,
          83.73,
          83.73,
          83.73,
          83.73,
          83.73,
          83.73,
          83.73,
          83.73,
          83.73,
          83.73,
          83.73,
          83.73,
          83.73,
          83.73,
          83.73,
          83.73,
          83.73,
          83.73,
          83.73,
          83.73,
          83.73,
          83.73,
          83.73,
          83.73,
          83.73,
          83.73,
          83.73,
          83.73,
          83.73,
          83.73,
          83.73,
          83.73,
          83.73,
          83.73,
          83.73,
          83.73,
          83.73,
          83.73,
          83.73,
          83.73,
          83.73,
          83.73,
          83.73,
          83.73,
          83.73,
          83.73,
          83.73,
          83.73,
          83.73,
          83.73,
          83.73,
          83.73,
          83.73,
          83.73,
          83.73,
          83.73,
          83.73,
          83.73,
          83.73,
          83.73,
          83.73,
          83.73,
          83.73,
          83.73,
          83.73,
          83.73,
          83.73,
          83.73,
          83.73,
          83.73,
          83.73,
          83.73,
          83.73,
          83.73,
          83.73,
          83.73,
          83.73,
          83.73,
          83.73,
          83.73,
          83.73,
          83.73,
          83.73,
          83.73,
          83.73,
          83.73,
          83.73,
          83.73,
          83.73,
          83.73,
          83.73,
          83.73,
          83.73,
          83.73,
          83.73,
          83.73,
          83.73,
          83.73,
          83.73,
          83.73,
          83.73,
          83.73,
          83.73,
          83.73,
          83.73,
          83.73,
          83.73,
          83.73,
          83.73,
          83.73,
          83.73,
          83.73,
          83.73,
          83.73,
          83.73,
          83.73,
          83.73,
          83.73,
          83.73,
          83.73,
          83.73,
          83.73,
          83.73,
          83.73,
          83.73,
          83.73,
          83.73,
          83.73,
          83.73,
          83.73,
          83.73,
          83.73,
          83.73,
          83.73,
          83.73,
          83.73,
          83.73,
          83.73,
          83.73,
          83.73,
          83.73,
          83.73,
          83.73,
          83.73,
          83.73,
          83.73,
          83.73,
          83.73,
          83.73,
          83.73,
          83.73,
          83.73,
          83.73,
          83.73,
          83.73,
          83.73,
          83.73,
          83.73,
          83.73,
          83.73,
          83.73,
          83.73,
          83.73,
          83.73,
          83.73,
          83.73,
          83.73,
          83.73,
          83.73,
          83.73,
          83.73,
          83.73,
          83.73,
          83.73,
          83.73,
          83.73,
          83.73,
          83.73,
          83.73,
          83.73,
          83.73,
          83.73,
          83.73,
          83.73,
          83.73,
          83.73,
          83.73,
          83.73,
          83.73,
          83.73,
          83.73,
          83.73,
          83.73,
          83.73,
          83.73,
          83.73,
          83.73,
          83.73,
          83.73,
          83.73,
          83.73,
          83.73,
          83.73,
          83.73,
          83.73,
          83.73,
          83.73,
          83.73,
          83.73,
          83.73,
          83.73,
          83.73,
          83.73,
          83.73,
          83.73,
          83.73,
          83.73,
          83.73,
          83.73,
          83.73,
          83.73,
          83.73,
          83.73,
          83.73,
          83.73,
          83.73,
          83.73,
          83.73,
          83.73,
          83.73,
          83.73,
          83.73,
          83.73,
          83.73,
          83.73,
          83.73,
          83.73,
          83.73,
          83.73,
          83.73,
          83.73,
          83.73,
          83.73,
          83.73,
          83.73,
          83.73,
          83.73,
          83.73,
          83.73,
          83.73,
          83.73,
          83.73,
          83.73,
          83.73,
          83.73,
          83.73,
          83.73,
          83.73,
          83.73,
          83.73,
          83.73,
          83.73,
          83.73,
          83.73,
          83.73,
          83.73,
          83.73,
          83.73,
          83.73,
          83.73,
          83.73,
          83.73,
          83.73,
          83.73,
          83.73,
          83.73,
          83.73,
          83.73,
          83.73,
          83.73,
          83.73,
          83.73,
          83.73,
          83.73,
          83.73,
          83.73,
          83.73,
          83.73,
          83.73,
          83.73,
          83.73,
          83.73,
          83.73,
          83.73,
          83.73,
          83.73,
          83.73,
          83.73,
          83.73,
          83.73,
          83.73,
          83.73,
          83.73,
          83.73,
          83.73,
          83.73,
          83.73,
          83.73,
          83.73,
          83.73,
          83.73,
          83.73,
          83.73,
          83.73,
          83.73,
          83.73,
          83.73,
          83.73,
          83.73,
          83.73,
          83.73,
          83.73,
          83.73,
          83.73,
          83.73,
          83.73,
          83.73,
          83.73,
          83.73,
          83.73,
          83.73,
          83.73,
          83.73,
          83.73,
          83.73,
          83.73,
          83.73,
          83.73,
          83.73,
          83.73,
          83.73,
          83.73,
          83.73,
          83.73,
          83.73,
          83.73,
          83.73,
          83.73,
          83.73,
          83.73,
          83.73,
          83.73,
          83.73,
          83.73,
          83.73,
          83.73,
          83.73,
          83.73,
          83.73,
          83.73,
          83.73,
          83.73,
          83.73,
          83.73,
          83.73,
          83.73,
          83.73,
          83.73,
          83.73,
          83.73,
          83.73,
          83.73,
          83.73,
          83.73,
          83.73,
          83.73,
          83.73,
          83.73,
          83.73,
          83.73,
          83.73,
          83.73,
          83.73,
          83.73,
          83.73,
          83.73,
          83.73,
          83.73,
          83.73,
          83.73,
          83.73,
          83.73,
          83.73,
          83.73,
          83.73,
          83.73,
          83.73,
          83.73,
          83.73,
          83.73,
          83.73,
          83.73,
          83.73,
          83.73,
          83.73,
          83.73,
          83.73,
          83.73,
          83.73,
          83.73,
          83.73,
          83.73,
          83.73,
          83.73,
          83.73,
          83.73,
          83.73,
          83.73,
          83.73,
          83.73,
          83.73,
          83.73,
          83.73,
          83.73,
          83.73,
          83.73,
          83.73,
          83.73,
          83.73,
          83.73,
          83.73,
          83.73,
          83.73,
          83.73,
          83.73,
          83.73,
          83.73,
          83.73,
          83.73,
          83.73,
          83.73,
          83.73,
          83.73,
          83.73,
          83.73,
          83.73,
          83.73,
          83.73,
          83.73,
          83.73,
          83.73,
          83.73,
          83.73,
          83.73,
          83.73,
          83.73,
          83.73,
          83.73,
          83.73,
          83.73,
          83.73,
          83.73,
          83.73,
          83.73,
          83.73,
          83.73,
          83.73,
          83.73,
          83.73,
          83.73,
          83.73,
          83.73,
          83.73,
          83.73,
          83.73,
          83.73,
          83.73,
          83.73,
          83.73,
          83.73,
          83.73,
          83.73,
          83.73,
          83.73,
          83.73,
          83.73,
          83.73,
          83.73,
          83.73,
          83.73,
          83.73,
          83.73,
          83.73,
          83.73,
          83.73,
          83.73,
          83.73,
          83.73,
          83.73,
          83.73,
          83.73,
          83.73,
          83.73,
          83.73,
          83.73,
          83.73,
          83.73,
          83.73,
          83.73,
          83.73,
          83.73,
          83.73,
          83.73,
          83.73,
          83.73,
          83.73,
          83.73,
          83.73,
          83.73,
          83.73,
          83.73,
          83.73,
          83.73,
          83.73,
          83.73,
          83.73,
          83.73,
          83.73,
          83.73,
          83.73,
          83.73,
          83.73,
          83.73,
          83.73,
          83.73,
          83.73,
          83.73,
          83.73,
          83.73
         ]
        }
       ],
       "layout": {
        "height": 600,
        "template": {
         "data": {
          "bar": [
           {
            "error_x": {
             "color": "#2a3f5f"
            },
            "error_y": {
             "color": "#2a3f5f"
            },
            "marker": {
             "line": {
              "color": "#E5ECF6",
              "width": 0.5
             }
            },
            "type": "bar"
           }
          ],
          "barpolar": [
           {
            "marker": {
             "line": {
              "color": "#E5ECF6",
              "width": 0.5
             }
            },
            "type": "barpolar"
           }
          ],
          "carpet": [
           {
            "aaxis": {
             "endlinecolor": "#2a3f5f",
             "gridcolor": "white",
             "linecolor": "white",
             "minorgridcolor": "white",
             "startlinecolor": "#2a3f5f"
            },
            "baxis": {
             "endlinecolor": "#2a3f5f",
             "gridcolor": "white",
             "linecolor": "white",
             "minorgridcolor": "white",
             "startlinecolor": "#2a3f5f"
            },
            "type": "carpet"
           }
          ],
          "choropleth": [
           {
            "colorbar": {
             "outlinewidth": 0,
             "ticks": ""
            },
            "type": "choropleth"
           }
          ],
          "contour": [
           {
            "colorbar": {
             "outlinewidth": 0,
             "ticks": ""
            },
            "colorscale": [
             [
              0,
              "#0d0887"
             ],
             [
              0.1111111111111111,
              "#46039f"
             ],
             [
              0.2222222222222222,
              "#7201a8"
             ],
             [
              0.3333333333333333,
              "#9c179e"
             ],
             [
              0.4444444444444444,
              "#bd3786"
             ],
             [
              0.5555555555555556,
              "#d8576b"
             ],
             [
              0.6666666666666666,
              "#ed7953"
             ],
             [
              0.7777777777777778,
              "#fb9f3a"
             ],
             [
              0.8888888888888888,
              "#fdca26"
             ],
             [
              1,
              "#f0f921"
             ]
            ],
            "type": "contour"
           }
          ],
          "contourcarpet": [
           {
            "colorbar": {
             "outlinewidth": 0,
             "ticks": ""
            },
            "type": "contourcarpet"
           }
          ],
          "heatmap": [
           {
            "colorbar": {
             "outlinewidth": 0,
             "ticks": ""
            },
            "colorscale": [
             [
              0,
              "#0d0887"
             ],
             [
              0.1111111111111111,
              "#46039f"
             ],
             [
              0.2222222222222222,
              "#7201a8"
             ],
             [
              0.3333333333333333,
              "#9c179e"
             ],
             [
              0.4444444444444444,
              "#bd3786"
             ],
             [
              0.5555555555555556,
              "#d8576b"
             ],
             [
              0.6666666666666666,
              "#ed7953"
             ],
             [
              0.7777777777777778,
              "#fb9f3a"
             ],
             [
              0.8888888888888888,
              "#fdca26"
             ],
             [
              1,
              "#f0f921"
             ]
            ],
            "type": "heatmap"
           }
          ],
          "heatmapgl": [
           {
            "colorbar": {
             "outlinewidth": 0,
             "ticks": ""
            },
            "colorscale": [
             [
              0,
              "#0d0887"
             ],
             [
              0.1111111111111111,
              "#46039f"
             ],
             [
              0.2222222222222222,
              "#7201a8"
             ],
             [
              0.3333333333333333,
              "#9c179e"
             ],
             [
              0.4444444444444444,
              "#bd3786"
             ],
             [
              0.5555555555555556,
              "#d8576b"
             ],
             [
              0.6666666666666666,
              "#ed7953"
             ],
             [
              0.7777777777777778,
              "#fb9f3a"
             ],
             [
              0.8888888888888888,
              "#fdca26"
             ],
             [
              1,
              "#f0f921"
             ]
            ],
            "type": "heatmapgl"
           }
          ],
          "histogram": [
           {
            "marker": {
             "colorbar": {
              "outlinewidth": 0,
              "ticks": ""
             }
            },
            "type": "histogram"
           }
          ],
          "histogram2d": [
           {
            "colorbar": {
             "outlinewidth": 0,
             "ticks": ""
            },
            "colorscale": [
             [
              0,
              "#0d0887"
             ],
             [
              0.1111111111111111,
              "#46039f"
             ],
             [
              0.2222222222222222,
              "#7201a8"
             ],
             [
              0.3333333333333333,
              "#9c179e"
             ],
             [
              0.4444444444444444,
              "#bd3786"
             ],
             [
              0.5555555555555556,
              "#d8576b"
             ],
             [
              0.6666666666666666,
              "#ed7953"
             ],
             [
              0.7777777777777778,
              "#fb9f3a"
             ],
             [
              0.8888888888888888,
              "#fdca26"
             ],
             [
              1,
              "#f0f921"
             ]
            ],
            "type": "histogram2d"
           }
          ],
          "histogram2dcontour": [
           {
            "colorbar": {
             "outlinewidth": 0,
             "ticks": ""
            },
            "colorscale": [
             [
              0,
              "#0d0887"
             ],
             [
              0.1111111111111111,
              "#46039f"
             ],
             [
              0.2222222222222222,
              "#7201a8"
             ],
             [
              0.3333333333333333,
              "#9c179e"
             ],
             [
              0.4444444444444444,
              "#bd3786"
             ],
             [
              0.5555555555555556,
              "#d8576b"
             ],
             [
              0.6666666666666666,
              "#ed7953"
             ],
             [
              0.7777777777777778,
              "#fb9f3a"
             ],
             [
              0.8888888888888888,
              "#fdca26"
             ],
             [
              1,
              "#f0f921"
             ]
            ],
            "type": "histogram2dcontour"
           }
          ],
          "mesh3d": [
           {
            "colorbar": {
             "outlinewidth": 0,
             "ticks": ""
            },
            "type": "mesh3d"
           }
          ],
          "parcoords": [
           {
            "line": {
             "colorbar": {
              "outlinewidth": 0,
              "ticks": ""
             }
            },
            "type": "parcoords"
           }
          ],
          "pie": [
           {
            "automargin": true,
            "type": "pie"
           }
          ],
          "scatter": [
           {
            "marker": {
             "colorbar": {
              "outlinewidth": 0,
              "ticks": ""
             }
            },
            "type": "scatter"
           }
          ],
          "scatter3d": [
           {
            "line": {
             "colorbar": {
              "outlinewidth": 0,
              "ticks": ""
             }
            },
            "marker": {
             "colorbar": {
              "outlinewidth": 0,
              "ticks": ""
             }
            },
            "type": "scatter3d"
           }
          ],
          "scattercarpet": [
           {
            "marker": {
             "colorbar": {
              "outlinewidth": 0,
              "ticks": ""
             }
            },
            "type": "scattercarpet"
           }
          ],
          "scattergeo": [
           {
            "marker": {
             "colorbar": {
              "outlinewidth": 0,
              "ticks": ""
             }
            },
            "type": "scattergeo"
           }
          ],
          "scattergl": [
           {
            "marker": {
             "colorbar": {
              "outlinewidth": 0,
              "ticks": ""
             }
            },
            "type": "scattergl"
           }
          ],
          "scattermapbox": [
           {
            "marker": {
             "colorbar": {
              "outlinewidth": 0,
              "ticks": ""
             }
            },
            "type": "scattermapbox"
           }
          ],
          "scatterpolar": [
           {
            "marker": {
             "colorbar": {
              "outlinewidth": 0,
              "ticks": ""
             }
            },
            "type": "scatterpolar"
           }
          ],
          "scatterpolargl": [
           {
            "marker": {
             "colorbar": {
              "outlinewidth": 0,
              "ticks": ""
             }
            },
            "type": "scatterpolargl"
           }
          ],
          "scatterternary": [
           {
            "marker": {
             "colorbar": {
              "outlinewidth": 0,
              "ticks": ""
             }
            },
            "type": "scatterternary"
           }
          ],
          "surface": [
           {
            "colorbar": {
             "outlinewidth": 0,
             "ticks": ""
            },
            "colorscale": [
             [
              0,
              "#0d0887"
             ],
             [
              0.1111111111111111,
              "#46039f"
             ],
             [
              0.2222222222222222,
              "#7201a8"
             ],
             [
              0.3333333333333333,
              "#9c179e"
             ],
             [
              0.4444444444444444,
              "#bd3786"
             ],
             [
              0.5555555555555556,
              "#d8576b"
             ],
             [
              0.6666666666666666,
              "#ed7953"
             ],
             [
              0.7777777777777778,
              "#fb9f3a"
             ],
             [
              0.8888888888888888,
              "#fdca26"
             ],
             [
              1,
              "#f0f921"
             ]
            ],
            "type": "surface"
           }
          ],
          "table": [
           {
            "cells": {
             "fill": {
              "color": "#EBF0F8"
             },
             "line": {
              "color": "white"
             }
            },
            "header": {
             "fill": {
              "color": "#C8D4E3"
             },
             "line": {
              "color": "white"
             }
            },
            "type": "table"
           }
          ]
         },
         "layout": {
          "annotationdefaults": {
           "arrowcolor": "#2a3f5f",
           "arrowhead": 0,
           "arrowwidth": 1
          },
          "autotypenumbers": "strict",
          "coloraxis": {
           "colorbar": {
            "outlinewidth": 0,
            "ticks": ""
           }
          },
          "colorscale": {
           "diverging": [
            [
             0,
             "#8e0152"
            ],
            [
             0.1,
             "#c51b7d"
            ],
            [
             0.2,
             "#de77ae"
            ],
            [
             0.3,
             "#f1b6da"
            ],
            [
             0.4,
             "#fde0ef"
            ],
            [
             0.5,
             "#f7f7f7"
            ],
            [
             0.6,
             "#e6f5d0"
            ],
            [
             0.7,
             "#b8e186"
            ],
            [
             0.8,
             "#7fbc41"
            ],
            [
             0.9,
             "#4d9221"
            ],
            [
             1,
             "#276419"
            ]
           ],
           "sequential": [
            [
             0,
             "#0d0887"
            ],
            [
             0.1111111111111111,
             "#46039f"
            ],
            [
             0.2222222222222222,
             "#7201a8"
            ],
            [
             0.3333333333333333,
             "#9c179e"
            ],
            [
             0.4444444444444444,
             "#bd3786"
            ],
            [
             0.5555555555555556,
             "#d8576b"
            ],
            [
             0.6666666666666666,
             "#ed7953"
            ],
            [
             0.7777777777777778,
             "#fb9f3a"
            ],
            [
             0.8888888888888888,
             "#fdca26"
            ],
            [
             1,
             "#f0f921"
            ]
           ],
           "sequentialminus": [
            [
             0,
             "#0d0887"
            ],
            [
             0.1111111111111111,
             "#46039f"
            ],
            [
             0.2222222222222222,
             "#7201a8"
            ],
            [
             0.3333333333333333,
             "#9c179e"
            ],
            [
             0.4444444444444444,
             "#bd3786"
            ],
            [
             0.5555555555555556,
             "#d8576b"
            ],
            [
             0.6666666666666666,
             "#ed7953"
            ],
            [
             0.7777777777777778,
             "#fb9f3a"
            ],
            [
             0.8888888888888888,
             "#fdca26"
            ],
            [
             1,
             "#f0f921"
            ]
           ]
          },
          "colorway": [
           "#636efa",
           "#EF553B",
           "#00cc96",
           "#ab63fa",
           "#FFA15A",
           "#19d3f3",
           "#FF6692",
           "#B6E880",
           "#FF97FF",
           "#FECB52"
          ],
          "font": {
           "color": "#2a3f5f"
          },
          "geo": {
           "bgcolor": "white",
           "lakecolor": "white",
           "landcolor": "#E5ECF6",
           "showlakes": true,
           "showland": true,
           "subunitcolor": "white"
          },
          "hoverlabel": {
           "align": "left"
          },
          "hovermode": "closest",
          "mapbox": {
           "style": "light"
          },
          "paper_bgcolor": "white",
          "plot_bgcolor": "#E5ECF6",
          "polar": {
           "angularaxis": {
            "gridcolor": "white",
            "linecolor": "white",
            "ticks": ""
           },
           "bgcolor": "#E5ECF6",
           "radialaxis": {
            "gridcolor": "white",
            "linecolor": "white",
            "ticks": ""
           }
          },
          "scene": {
           "xaxis": {
            "backgroundcolor": "#E5ECF6",
            "gridcolor": "white",
            "gridwidth": 2,
            "linecolor": "white",
            "showbackground": true,
            "ticks": "",
            "zerolinecolor": "white"
           },
           "yaxis": {
            "backgroundcolor": "#E5ECF6",
            "gridcolor": "white",
            "gridwidth": 2,
            "linecolor": "white",
            "showbackground": true,
            "ticks": "",
            "zerolinecolor": "white"
           },
           "zaxis": {
            "backgroundcolor": "#E5ECF6",
            "gridcolor": "white",
            "gridwidth": 2,
            "linecolor": "white",
            "showbackground": true,
            "ticks": "",
            "zerolinecolor": "white"
           }
          },
          "shapedefaults": {
           "line": {
            "color": "#2a3f5f"
           }
          },
          "ternary": {
           "aaxis": {
            "gridcolor": "white",
            "linecolor": "white",
            "ticks": ""
           },
           "baxis": {
            "gridcolor": "white",
            "linecolor": "white",
            "ticks": ""
           },
           "bgcolor": "#E5ECF6",
           "caxis": {
            "gridcolor": "white",
            "linecolor": "white",
            "ticks": ""
           }
          },
          "title": {
           "x": 0.05
          },
          "xaxis": {
           "automargin": true,
           "gridcolor": "white",
           "linecolor": "white",
           "ticks": "",
           "title": {
            "standoff": 15
           },
           "zerolinecolor": "white",
           "zerolinewidth": 2
          },
          "yaxis": {
           "automargin": true,
           "gridcolor": "white",
           "linecolor": "white",
           "ticks": "",
           "title": {
            "standoff": 15
           },
           "zerolinecolor": "white",
           "zerolinewidth": 2
          }
         }
        },
        "title": {
         "text": "Data Train and Accuracy",
         "x": 0.5
        },
        "xaxis": {
         "title": {
          "text": "Size data train in Percent"
         }
        },
        "yaxis": {
         "title": {
          "text": "R-Squared score in Percent"
         }
        }
       }
      },
      "text/html": [
       "<div>                            <div id=\"315adf6e-f3b3-4b86-9203-96b2fd417018\" class=\"plotly-graph-div\" style=\"height:600px; width:100%;\"></div>            <script type=\"text/javascript\">                require([\"plotly\"], function(Plotly) {                    window.PLOTLYENV=window.PLOTLYENV || {};                                    if (document.getElementById(\"315adf6e-f3b3-4b86-9203-96b2fd417018\")) {                    Plotly.newPlot(                        \"315adf6e-f3b3-4b86-9203-96b2fd417018\",                        [{\"type\": \"scatter\", \"x\": [30.0, 30.1, 30.2, 30.3, 30.4, 30.5, 30.6, 30.7, 30.8, 30.9, 31.0, 31.1, 31.2, 31.3, 31.4, 31.5, 31.6, 31.7, 31.8, 31.9, 32.0, 32.1, 32.2, 32.3, 32.4, 32.5, 32.6, 32.7, 32.8, 32.9, 33.0, 33.1, 33.2, 33.3, 33.4, 33.5, 33.6, 33.7, 33.8, 33.9, 34.0, 34.1, 34.2, 34.3, 34.4, 34.5, 34.6, 34.7, 34.8, 34.9, 35.0, 35.1, 35.2, 35.3, 35.4, 35.5, 35.6, 35.7, 35.8, 35.9, 36.0, 36.1, 36.2, 36.3, 36.4, 36.5, 36.6, 36.7, 36.8, 36.9, 37.0, 37.1, 37.2, 37.3, 37.4, 37.5, 37.6, 37.7, 37.8, 37.9, 38.0, 38.1, 38.2, 38.3, 38.4, 38.5, 38.6, 38.7, 38.8, 38.9, 39.0, 39.1, 39.2, 39.3, 39.4, 39.5, 39.6, 39.7, 39.8, 39.9, 40.0, 40.1, 40.2, 40.3, 40.4, 40.5, 40.6, 40.7, 40.8, 40.9, 41.0, 41.1, 41.2, 41.3, 41.4, 41.5, 41.6, 41.7, 41.8, 41.9, 42.0, 42.1, 42.2, 42.3, 42.4, 42.5, 42.6, 42.7, 42.8, 42.9, 43.0, 43.1, 43.2, 43.3, 43.4, 43.5, 43.6, 43.7, 43.8, 43.9, 44.0, 44.1, 44.2, 44.3, 44.4, 44.5, 44.6, 44.7, 44.8, 44.9, 45.0, 45.1, 45.2, 45.3, 45.4, 45.5, 45.6, 45.7, 45.8, 45.9, 46.0, 46.1, 46.2, 46.3, 46.4, 46.5, 46.6, 46.7, 46.8, 46.9, 47.0, 47.1, 47.2, 47.3, 47.4, 47.5, 47.6, 47.7, 47.8, 47.9, 48.0, 48.1, 48.2, 48.3, 48.4, 48.5, 48.6, 48.7, 48.8, 48.9, 49.0, 49.1, 49.2, 49.3, 49.4, 49.5, 49.6, 49.7, 49.8, 49.9, 50.0, 50.1, 50.2, 50.3, 50.4, 50.5, 50.6, 50.7, 50.8, 50.9, 51.0, 51.1, 51.2, 51.3, 51.4, 51.5, 51.6, 51.7, 51.8, 51.9, 52.0, 52.1, 52.2, 52.3, 52.4, 52.5, 52.6, 52.7, 52.8, 52.9, 53.0, 53.1, 53.2, 53.3, 53.4, 53.5, 53.6, 53.7, 53.8, 53.9, 54.0, 54.1, 54.2, 54.3, 54.4, 54.5, 54.6, 54.7, 54.8, 54.9, 55.0, 55.1, 55.2, 55.3, 55.4, 55.5, 55.6, 55.7, 55.8, 55.9, 56.0, 56.1, 56.2, 56.3, 56.4, 56.5, 56.6, 56.7, 56.8, 56.9, 57.0, 57.1, 57.2, 57.3, 57.4, 57.5, 57.6, 57.7, 57.8, 57.9, 58.0, 58.1, 58.2, 58.3, 58.4, 58.5, 58.6, 58.7, 58.8, 58.9, 59.0, 59.1, 59.2, 59.3, 59.4, 59.5, 59.6, 59.7, 59.8, 59.9, 60.0, 60.1, 60.2, 60.3, 60.4, 60.5, 60.6, 60.7, 60.8, 60.9, 61.0, 61.1, 61.2, 61.3, 61.4, 61.5, 61.6, 61.7, 61.8, 61.9, 62.0, 62.1, 62.2, 62.3, 62.4, 62.5, 62.6, 62.7, 62.8, 62.9, 63.0, 63.1, 63.2, 63.3, 63.4, 63.5, 63.6, 63.7, 63.8, 63.9, 64.0, 64.1, 64.2, 64.3, 64.4, 64.5, 64.6, 64.7, 64.8, 64.9, 65.0, 65.1, 65.2, 65.3, 65.4, 65.5, 65.6, 65.7, 65.8, 65.9, 66.0, 66.1, 66.2, 66.3, 66.4, 66.5, 66.6, 66.7, 66.8, 66.9, 67.0, 67.1, 67.2, 67.3, 67.4, 67.5, 67.6, 67.7, 67.8, 67.9, 68.0, 68.1, 68.2, 68.3, 68.4, 68.5, 68.6, 68.7, 68.8, 68.9, 69.0, 69.1, 69.2, 69.3, 69.4, 69.5, 69.6, 69.7, 69.8, 69.9, 70.0, 70.1, 70.2, 70.3, 70.4, 70.5, 70.6, 70.7, 70.8, 70.9, 71.0, 71.1, 71.2, 71.3, 71.4, 71.5, 71.6, 71.7, 71.8, 71.9, 72.0, 72.1, 72.2, 72.3, 72.4, 72.5, 72.6, 72.7, 72.8, 72.9, 73.0, 73.1, 73.2, 73.3, 73.4, 73.5, 73.6, 73.7, 73.8, 73.9, 74.0, 74.1, 74.2, 74.3, 74.4, 74.5, 74.6, 74.7, 74.8, 74.9, 75.0, 75.1, 75.2, 75.3, 75.4, 75.5, 75.6, 75.7, 75.8, 75.9, 76.0, 76.1, 76.2, 76.3, 76.4, 76.5, 76.6, 76.7, 76.8, 76.9, 77.0, 77.1, 77.2, 77.3, 77.4, 77.5, 77.6, 77.7, 77.8, 77.9, 78.0, 78.1, 78.2, 78.3, 78.4, 78.5, 78.6, 78.7, 78.8, 78.9, 79.0, 79.1, 79.2, 79.3, 79.4, 79.5, 79.6, 79.7, 79.8, 79.9, 80.0, 80.1, 80.2, 80.3, 80.4, 80.5, 80.6, 80.7, 80.8, 80.9, 81.0, 81.1, 81.2, 81.3, 81.4, 81.5, 81.6, 81.7, 81.8, 81.9, 82.0, 82.1, 82.2, 82.3, 82.4, 82.5, 82.6, 82.7, 82.8, 82.9, 83.0, 83.1, 83.2, 83.3, 83.4, 83.5, 83.6, 83.7, 83.8, 83.9, 84.0, 84.1, 84.2, 84.3, 84.4, 84.5, 84.6, 84.7, 84.8, 84.9, 85.0, 85.1, 85.2, 85.3, 85.4, 85.5, 85.6, 85.7, 85.8, 85.9, 86.0, 86.1, 86.2, 86.3, 86.4, 86.5, 86.6, 86.7, 86.8, 86.9, 87.0, 87.1, 87.2, 87.3, 87.4, 87.5, 87.6, 87.7, 87.8, 87.9, 88.0, 88.1, 88.2, 88.3, 88.4, 88.5, 88.6, 88.7, 88.8, 88.9, 89.0, 89.1, 89.2, 89.3, 89.4, 89.5, 89.6, 89.7, 89.8, 89.9, 90.0, 90.1, 90.2, 90.3, 90.4, 90.5, 90.6, 90.7, 90.8, 90.9, 91.0, 91.1, 91.2, 91.3, 91.4, 91.5, 91.6, 91.7, 91.8, 91.9, 92.0, 92.1, 92.2, 92.3, 92.4, 92.5, 92.6, 92.7, 92.8, 92.9, 93.0, 93.1, 93.2, 93.3, 93.4, 93.5, 93.6, 93.7, 93.8, 93.9, 94.0, 94.1, 94.2, 94.3, 94.4, 94.5, 94.6, 94.7, 94.8, 94.9, 95.0, 95.1, 95.2, 95.3, 95.4, 95.5, 95.6, 95.7, 95.8, 95.9, 96.0, 96.1, 96.2, 96.3, 96.4, 96.5, 96.6, 96.7, 96.8, 96.9, 97.0, 97.1, 97.2, 97.3, 97.4, 97.5, 97.6, 97.7, 97.8, 97.9, 98.0, 98.1, 98.2, 98.3, 98.4, 98.5, 98.6, 98.7, 98.8, 98.9, 99.0, 99.1, 99.2, 99.3, 99.4, 99.5, 99.6, 99.7], \"y\": [83.73, 83.73, 83.73, 83.73, 83.73, 83.73, 83.73, 83.73, 83.73, 83.73, 83.73, 83.73, 83.73, 83.73, 83.73, 83.73, 83.73, 83.73, 83.73, 83.73, 83.73, 83.73, 83.73, 83.73, 83.73, 83.73, 83.73, 83.73, 83.73, 83.73, 83.73, 83.73, 83.73, 83.73, 83.73, 83.73, 83.73, 83.73, 83.73, 83.73, 83.73, 83.73, 83.73, 83.73, 83.73, 83.73, 83.73, 83.73, 83.73, 83.73, 83.73, 83.73, 83.73, 83.73, 83.73, 83.73, 83.73, 83.73, 83.73, 83.73, 83.73, 83.73, 83.73, 83.73, 83.73, 83.73, 83.73, 83.73, 83.73, 83.73, 83.73, 83.73, 83.73, 83.73, 83.73, 83.73, 83.73, 83.73, 83.73, 83.73, 83.73, 83.73, 83.73, 83.73, 83.73, 83.73, 83.73, 83.73, 83.73, 83.73, 83.73, 83.73, 83.73, 83.73, 83.73, 83.73, 83.73, 83.73, 83.73, 83.73, 83.73, 83.73, 83.73, 83.73, 83.73, 83.73, 83.73, 83.73, 83.73, 83.73, 83.73, 83.73, 83.73, 83.73, 83.73, 83.73, 83.73, 83.73, 83.73, 83.73, 83.73, 83.73, 83.73, 83.73, 83.73, 83.73, 83.73, 83.73, 83.73, 83.73, 83.73, 83.73, 83.73, 83.73, 83.73, 83.73, 83.73, 83.73, 83.73, 83.73, 83.73, 83.73, 83.73, 83.73, 83.73, 83.73, 83.73, 83.73, 83.73, 83.73, 83.73, 83.73, 83.73, 83.73, 83.73, 83.73, 83.73, 83.73, 83.73, 83.73, 83.73, 83.73, 83.73, 83.73, 83.73, 83.73, 83.73, 83.73, 83.73, 83.73, 83.73, 83.73, 83.73, 83.73, 83.73, 83.73, 83.73, 83.73, 83.73, 83.73, 83.73, 83.73, 83.73, 83.73, 83.73, 83.73, 83.73, 83.73, 83.73, 83.73, 83.73, 83.73, 83.73, 83.73, 83.73, 83.73, 83.73, 83.73, 83.73, 83.73, 83.73, 83.73, 83.73, 83.73, 83.73, 83.73, 83.73, 83.73, 83.73, 83.73, 83.73, 83.73, 83.73, 83.73, 83.73, 83.73, 83.73, 83.73, 83.73, 83.73, 83.73, 83.73, 83.73, 83.73, 83.73, 83.73, 83.73, 83.73, 83.73, 83.73, 83.73, 83.73, 83.73, 83.73, 83.73, 83.73, 83.73, 83.73, 83.73, 83.73, 83.73, 83.73, 83.73, 83.73, 83.73, 83.73, 83.73, 83.73, 83.73, 83.73, 83.73, 83.73, 83.73, 83.73, 83.73, 83.73, 83.73, 83.73, 83.73, 83.73, 83.73, 83.73, 83.73, 83.73, 83.73, 83.73, 83.73, 83.73, 83.73, 83.73, 83.73, 83.73, 83.73, 83.73, 83.73, 83.73, 83.73, 83.73, 83.73, 83.73, 83.73, 83.73, 83.73, 83.73, 83.73, 83.73, 83.73, 83.73, 83.73, 83.73, 83.73, 83.73, 83.73, 83.73, 83.73, 83.73, 83.73, 83.73, 83.73, 83.73, 83.73, 83.73, 83.73, 83.73, 83.73, 83.73, 83.73, 83.73, 83.73, 83.73, 83.73, 83.73, 83.73, 83.73, 83.73, 83.73, 83.73, 83.73, 83.73, 83.73, 83.73, 83.73, 83.73, 83.73, 83.73, 83.73, 83.73, 83.73, 83.73, 83.73, 83.73, 83.73, 83.73, 83.73, 83.73, 83.73, 83.73, 83.73, 83.73, 83.73, 83.73, 83.73, 83.73, 83.73, 83.73, 83.73, 83.73, 83.73, 83.73, 83.73, 83.73, 83.73, 83.73, 83.73, 83.73, 83.73, 83.73, 83.73, 83.73, 83.73, 83.73, 83.73, 83.73, 83.73, 83.73, 83.73, 83.73, 83.73, 83.73, 83.73, 83.73, 83.73, 83.73, 83.73, 83.73, 83.73, 83.73, 83.73, 83.73, 83.73, 83.73, 83.73, 83.73, 83.73, 83.73, 83.73, 83.73, 83.73, 83.73, 83.73, 83.73, 83.73, 83.73, 83.73, 83.73, 83.73, 83.73, 83.73, 83.73, 83.73, 83.73, 83.73, 83.73, 83.73, 83.73, 83.73, 83.73, 83.73, 83.73, 83.73, 83.73, 83.73, 83.73, 83.73, 83.73, 83.73, 83.73, 83.73, 83.73, 83.73, 83.73, 83.73, 83.73, 83.73, 83.73, 83.73, 83.73, 83.73, 83.73, 83.73, 83.73, 83.73, 83.73, 83.73, 83.73, 83.73, 83.73, 83.73, 83.73, 83.73, 83.73, 83.73, 83.73, 83.73, 83.73, 83.73, 83.73, 83.73, 83.73, 83.73, 83.73, 83.73, 83.73, 83.73, 83.73, 83.73, 83.73, 83.73, 83.73, 83.73, 83.73, 83.73, 83.73, 83.73, 83.73, 83.73, 83.73, 83.73, 83.73, 83.73, 83.73, 83.73, 83.73, 83.73, 83.73, 83.73, 83.73, 83.73, 83.73, 83.73, 83.73, 83.73, 83.73, 83.73, 83.73, 83.73, 83.73, 83.73, 83.73, 83.73, 83.73, 83.73, 83.73, 83.73, 83.73, 83.73, 83.73, 83.73, 83.73, 83.73, 83.73, 83.73, 83.73, 83.73, 83.73, 83.73, 83.73, 83.73, 83.73, 83.73, 83.73, 83.73, 83.73, 83.73, 83.73, 83.73, 83.73, 83.73, 83.73, 83.73, 83.73, 83.73, 83.73, 83.73, 83.73, 83.73, 83.73, 83.73, 83.73, 83.73, 83.73, 83.73, 83.73, 83.73, 83.73, 83.73, 83.73, 83.73, 83.73, 83.73, 83.73, 83.73, 83.73, 83.73, 83.73, 83.73, 83.73, 83.73, 83.73, 83.73, 83.73, 83.73, 83.73, 83.73, 83.73, 83.73, 83.73, 83.73, 83.73, 83.73, 83.73, 83.73, 83.73, 83.73, 83.73, 83.73, 83.73, 83.73, 83.73, 83.73, 83.73, 83.73, 83.73, 83.73, 83.73, 83.73, 83.73, 83.73, 83.73, 83.73, 83.73, 83.73, 83.73, 83.73, 83.73, 83.73, 83.73, 83.73, 83.73, 83.73, 83.73, 83.73, 83.73, 83.73, 83.73, 83.73, 83.73, 83.73, 83.73, 83.73, 83.73, 83.73, 83.73, 83.73, 83.73, 83.73, 83.73, 83.73, 83.73, 83.73, 83.73, 83.73, 83.73, 83.73, 83.73, 83.73, 83.73, 83.73, 83.73, 83.73, 83.73, 83.73, 83.73, 83.73, 83.73, 83.73, 83.73, 83.73, 83.73, 83.73, 83.73, 83.73, 83.73, 83.73, 83.73, 83.73, 83.73, 83.73, 83.73, 83.73, 83.73, 83.73, 83.73, 83.73, 83.73, 83.73, 83.73, 83.73, 83.73, 83.73, 83.73, 83.73, 83.73, 83.73, 83.73, 83.73, 83.73, 83.73, 83.73, 83.73, 83.73, 83.73, 83.73, 83.73, 83.73, 83.73, 83.73, 83.73, 83.73, 83.73, 83.73, 83.73, 83.73, 83.73, 83.73, 83.73, 83.73, 83.73, 83.73, 83.73, 83.73, 83.73, 83.73, 83.73, 83.73, 83.73, 83.73, 83.73, 83.73, 83.73, 83.73, 83.73, 83.73, 83.73, 83.73, 83.73, 83.73, 83.73]}],                        {\"height\": 600, \"template\": {\"data\": {\"bar\": [{\"error_x\": {\"color\": \"#2a3f5f\"}, \"error_y\": {\"color\": \"#2a3f5f\"}, \"marker\": {\"line\": {\"color\": \"#E5ECF6\", \"width\": 0.5}}, \"type\": \"bar\"}], \"barpolar\": [{\"marker\": {\"line\": {\"color\": \"#E5ECF6\", \"width\": 0.5}}, \"type\": \"barpolar\"}], \"carpet\": [{\"aaxis\": {\"endlinecolor\": \"#2a3f5f\", \"gridcolor\": \"white\", \"linecolor\": \"white\", \"minorgridcolor\": \"white\", \"startlinecolor\": \"#2a3f5f\"}, \"baxis\": {\"endlinecolor\": \"#2a3f5f\", \"gridcolor\": \"white\", \"linecolor\": \"white\", \"minorgridcolor\": \"white\", \"startlinecolor\": \"#2a3f5f\"}, \"type\": \"carpet\"}], \"choropleth\": [{\"colorbar\": {\"outlinewidth\": 0, \"ticks\": \"\"}, \"type\": \"choropleth\"}], \"contour\": [{\"colorbar\": {\"outlinewidth\": 0, \"ticks\": \"\"}, \"colorscale\": [[0.0, \"#0d0887\"], [0.1111111111111111, \"#46039f\"], [0.2222222222222222, \"#7201a8\"], [0.3333333333333333, \"#9c179e\"], [0.4444444444444444, \"#bd3786\"], [0.5555555555555556, \"#d8576b\"], [0.6666666666666666, \"#ed7953\"], [0.7777777777777778, \"#fb9f3a\"], [0.8888888888888888, \"#fdca26\"], [1.0, \"#f0f921\"]], \"type\": \"contour\"}], \"contourcarpet\": [{\"colorbar\": {\"outlinewidth\": 0, \"ticks\": \"\"}, \"type\": \"contourcarpet\"}], \"heatmap\": [{\"colorbar\": {\"outlinewidth\": 0, \"ticks\": \"\"}, \"colorscale\": [[0.0, \"#0d0887\"], [0.1111111111111111, \"#46039f\"], [0.2222222222222222, \"#7201a8\"], [0.3333333333333333, \"#9c179e\"], [0.4444444444444444, \"#bd3786\"], [0.5555555555555556, \"#d8576b\"], [0.6666666666666666, \"#ed7953\"], [0.7777777777777778, \"#fb9f3a\"], [0.8888888888888888, \"#fdca26\"], [1.0, \"#f0f921\"]], \"type\": \"heatmap\"}], \"heatmapgl\": [{\"colorbar\": {\"outlinewidth\": 0, \"ticks\": \"\"}, \"colorscale\": [[0.0, \"#0d0887\"], [0.1111111111111111, \"#46039f\"], [0.2222222222222222, \"#7201a8\"], [0.3333333333333333, \"#9c179e\"], [0.4444444444444444, \"#bd3786\"], [0.5555555555555556, \"#d8576b\"], [0.6666666666666666, \"#ed7953\"], [0.7777777777777778, \"#fb9f3a\"], [0.8888888888888888, \"#fdca26\"], [1.0, \"#f0f921\"]], \"type\": \"heatmapgl\"}], \"histogram\": [{\"marker\": {\"colorbar\": {\"outlinewidth\": 0, \"ticks\": \"\"}}, \"type\": \"histogram\"}], \"histogram2d\": [{\"colorbar\": {\"outlinewidth\": 0, \"ticks\": \"\"}, \"colorscale\": [[0.0, \"#0d0887\"], [0.1111111111111111, \"#46039f\"], [0.2222222222222222, \"#7201a8\"], [0.3333333333333333, \"#9c179e\"], [0.4444444444444444, \"#bd3786\"], [0.5555555555555556, \"#d8576b\"], [0.6666666666666666, \"#ed7953\"], [0.7777777777777778, \"#fb9f3a\"], [0.8888888888888888, \"#fdca26\"], [1.0, \"#f0f921\"]], \"type\": \"histogram2d\"}], \"histogram2dcontour\": [{\"colorbar\": {\"outlinewidth\": 0, \"ticks\": \"\"}, \"colorscale\": [[0.0, \"#0d0887\"], [0.1111111111111111, \"#46039f\"], [0.2222222222222222, \"#7201a8\"], [0.3333333333333333, \"#9c179e\"], [0.4444444444444444, \"#bd3786\"], [0.5555555555555556, \"#d8576b\"], [0.6666666666666666, \"#ed7953\"], [0.7777777777777778, \"#fb9f3a\"], [0.8888888888888888, \"#fdca26\"], [1.0, \"#f0f921\"]], \"type\": \"histogram2dcontour\"}], \"mesh3d\": [{\"colorbar\": {\"outlinewidth\": 0, \"ticks\": \"\"}, \"type\": \"mesh3d\"}], \"parcoords\": [{\"line\": {\"colorbar\": {\"outlinewidth\": 0, \"ticks\": \"\"}}, \"type\": \"parcoords\"}], \"pie\": [{\"automargin\": true, \"type\": \"pie\"}], \"scatter\": [{\"marker\": {\"colorbar\": {\"outlinewidth\": 0, \"ticks\": \"\"}}, \"type\": \"scatter\"}], \"scatter3d\": [{\"line\": {\"colorbar\": {\"outlinewidth\": 0, \"ticks\": \"\"}}, \"marker\": {\"colorbar\": {\"outlinewidth\": 0, \"ticks\": \"\"}}, \"type\": \"scatter3d\"}], \"scattercarpet\": [{\"marker\": {\"colorbar\": {\"outlinewidth\": 0, \"ticks\": \"\"}}, \"type\": \"scattercarpet\"}], \"scattergeo\": [{\"marker\": {\"colorbar\": {\"outlinewidth\": 0, \"ticks\": \"\"}}, \"type\": \"scattergeo\"}], \"scattergl\": [{\"marker\": {\"colorbar\": {\"outlinewidth\": 0, \"ticks\": \"\"}}, \"type\": \"scattergl\"}], \"scattermapbox\": [{\"marker\": {\"colorbar\": {\"outlinewidth\": 0, \"ticks\": \"\"}}, \"type\": \"scattermapbox\"}], \"scatterpolar\": [{\"marker\": {\"colorbar\": {\"outlinewidth\": 0, \"ticks\": \"\"}}, \"type\": \"scatterpolar\"}], \"scatterpolargl\": [{\"marker\": {\"colorbar\": {\"outlinewidth\": 0, \"ticks\": \"\"}}, \"type\": \"scatterpolargl\"}], \"scatterternary\": [{\"marker\": {\"colorbar\": {\"outlinewidth\": 0, \"ticks\": \"\"}}, \"type\": \"scatterternary\"}], \"surface\": [{\"colorbar\": {\"outlinewidth\": 0, \"ticks\": \"\"}, \"colorscale\": [[0.0, \"#0d0887\"], [0.1111111111111111, \"#46039f\"], [0.2222222222222222, \"#7201a8\"], [0.3333333333333333, \"#9c179e\"], [0.4444444444444444, \"#bd3786\"], [0.5555555555555556, \"#d8576b\"], [0.6666666666666666, \"#ed7953\"], [0.7777777777777778, \"#fb9f3a\"], [0.8888888888888888, \"#fdca26\"], [1.0, \"#f0f921\"]], \"type\": \"surface\"}], \"table\": [{\"cells\": {\"fill\": {\"color\": \"#EBF0F8\"}, \"line\": {\"color\": \"white\"}}, \"header\": {\"fill\": {\"color\": \"#C8D4E3\"}, \"line\": {\"color\": \"white\"}}, \"type\": \"table\"}]}, \"layout\": {\"annotationdefaults\": {\"arrowcolor\": \"#2a3f5f\", \"arrowhead\": 0, \"arrowwidth\": 1}, \"autotypenumbers\": \"strict\", \"coloraxis\": {\"colorbar\": {\"outlinewidth\": 0, \"ticks\": \"\"}}, \"colorscale\": {\"diverging\": [[0, \"#8e0152\"], [0.1, \"#c51b7d\"], [0.2, \"#de77ae\"], [0.3, \"#f1b6da\"], [0.4, \"#fde0ef\"], [0.5, \"#f7f7f7\"], [0.6, \"#e6f5d0\"], [0.7, \"#b8e186\"], [0.8, \"#7fbc41\"], [0.9, \"#4d9221\"], [1, \"#276419\"]], \"sequential\": [[0.0, \"#0d0887\"], [0.1111111111111111, \"#46039f\"], [0.2222222222222222, \"#7201a8\"], [0.3333333333333333, \"#9c179e\"], [0.4444444444444444, \"#bd3786\"], [0.5555555555555556, \"#d8576b\"], [0.6666666666666666, \"#ed7953\"], [0.7777777777777778, \"#fb9f3a\"], [0.8888888888888888, \"#fdca26\"], [1.0, \"#f0f921\"]], \"sequentialminus\": [[0.0, \"#0d0887\"], [0.1111111111111111, \"#46039f\"], [0.2222222222222222, \"#7201a8\"], [0.3333333333333333, \"#9c179e\"], [0.4444444444444444, \"#bd3786\"], [0.5555555555555556, \"#d8576b\"], [0.6666666666666666, \"#ed7953\"], [0.7777777777777778, \"#fb9f3a\"], [0.8888888888888888, \"#fdca26\"], [1.0, \"#f0f921\"]]}, \"colorway\": [\"#636efa\", \"#EF553B\", \"#00cc96\", \"#ab63fa\", \"#FFA15A\", \"#19d3f3\", \"#FF6692\", \"#B6E880\", \"#FF97FF\", \"#FECB52\"], \"font\": {\"color\": \"#2a3f5f\"}, \"geo\": {\"bgcolor\": \"white\", \"lakecolor\": \"white\", \"landcolor\": \"#E5ECF6\", \"showlakes\": true, \"showland\": true, \"subunitcolor\": \"white\"}, \"hoverlabel\": {\"align\": \"left\"}, \"hovermode\": \"closest\", \"mapbox\": {\"style\": \"light\"}, \"paper_bgcolor\": \"white\", \"plot_bgcolor\": \"#E5ECF6\", \"polar\": {\"angularaxis\": {\"gridcolor\": \"white\", \"linecolor\": \"white\", \"ticks\": \"\"}, \"bgcolor\": \"#E5ECF6\", \"radialaxis\": {\"gridcolor\": \"white\", \"linecolor\": \"white\", \"ticks\": \"\"}}, \"scene\": {\"xaxis\": {\"backgroundcolor\": \"#E5ECF6\", \"gridcolor\": \"white\", \"gridwidth\": 2, \"linecolor\": \"white\", \"showbackground\": true, \"ticks\": \"\", \"zerolinecolor\": \"white\"}, \"yaxis\": {\"backgroundcolor\": \"#E5ECF6\", \"gridcolor\": \"white\", \"gridwidth\": 2, \"linecolor\": \"white\", \"showbackground\": true, \"ticks\": \"\", \"zerolinecolor\": \"white\"}, \"zaxis\": {\"backgroundcolor\": \"#E5ECF6\", \"gridcolor\": \"white\", \"gridwidth\": 2, \"linecolor\": \"white\", \"showbackground\": true, \"ticks\": \"\", \"zerolinecolor\": \"white\"}}, \"shapedefaults\": {\"line\": {\"color\": \"#2a3f5f\"}}, \"ternary\": {\"aaxis\": {\"gridcolor\": \"white\", \"linecolor\": \"white\", \"ticks\": \"\"}, \"baxis\": {\"gridcolor\": \"white\", \"linecolor\": \"white\", \"ticks\": \"\"}, \"bgcolor\": \"#E5ECF6\", \"caxis\": {\"gridcolor\": \"white\", \"linecolor\": \"white\", \"ticks\": \"\"}}, \"title\": {\"x\": 0.05}, \"xaxis\": {\"automargin\": true, \"gridcolor\": \"white\", \"linecolor\": \"white\", \"ticks\": \"\", \"title\": {\"standoff\": 15}, \"zerolinecolor\": \"white\", \"zerolinewidth\": 2}, \"yaxis\": {\"automargin\": true, \"gridcolor\": \"white\", \"linecolor\": \"white\", \"ticks\": \"\", \"title\": {\"standoff\": 15}, \"zerolinecolor\": \"white\", \"zerolinewidth\": 2}}}, \"title\": {\"text\": \"Data Train and Accuracy\", \"x\": 0.5}, \"xaxis\": {\"title\": {\"text\": \"Size data train in Percent\"}}, \"yaxis\": {\"title\": {\"text\": \"R-Squared score in Percent\"}}},                        {\"responsive\": true}                    ).then(function(){\n",
       "                            \n",
       "var gd = document.getElementById('315adf6e-f3b3-4b86-9203-96b2fd417018');\n",
       "var x = new MutationObserver(function (mutations, observer) {{\n",
       "        var display = window.getComputedStyle(gd).display;\n",
       "        if (!display || display === 'none') {{\n",
       "            console.log([gd, 'removed!']);\n",
       "            Plotly.purge(gd);\n",
       "            observer.disconnect();\n",
       "        }}\n",
       "}});\n",
       "\n",
       "// Listen for the removal of the full notebook cells\n",
       "var notebookContainer = gd.closest('#notebook-container');\n",
       "if (notebookContainer) {{\n",
       "    x.observe(notebookContainer, {childList: true});\n",
       "}}\n",
       "\n",
       "// Listen for the clearing of the current output cell\n",
       "var outputEl = gd.closest('.output');\n",
       "if (outputEl) {{\n",
       "    x.observe(outputEl, {childList: true});\n",
       "}}\n",
       "\n",
       "                        })                };                });            </script>        </div>"
      ]
     },
     "metadata": {},
     "output_type": "display_data"
    }
   ],
   "source": [
    "fig = go.Figure(data=go.Scatter(x=trains_size, y=scores))\n",
    "\n",
    "fig.update_layout(\n",
    "    title       = 'Data Train and Accuracy',\n",
    "    title_x     = 0.5,\n",
    "    xaxis_title = 'Size data train in Percent',\n",
    "    yaxis_title = 'R-Squared score in Percent',\n",
    "    height      = 600\n",
    ")\n",
    "\n",
    "fig.show()"
   ]
  },
  {
   "cell_type": "code",
   "execution_count": null,
   "metadata": {},
   "outputs": [],
   "source": []
  }
 ],
 "metadata": {
  "kernelspec": {
   "display_name": "Python 3",
   "language": "python",
   "name": "python3"
  },
  "language_info": {
   "codemirror_mode": {
    "name": "ipython",
    "version": 3
   },
   "file_extension": ".py",
   "mimetype": "text/x-python",
   "name": "python",
   "nbconvert_exporter": "python",
   "pygments_lexer": "ipython3",
   "version": "3.8.5"
  }
 },
 "nbformat": 4,
 "nbformat_minor": 4
}
